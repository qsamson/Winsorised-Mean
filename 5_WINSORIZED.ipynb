{
  "nbformat": 4,
  "nbformat_minor": 0,
  "metadata": {
    "colab": {
      "name": "5%- WINSORIZED.ipynb",
      "provenance": [],
      "collapsed_sections": []
    },
    "kernelspec": {
      "name": "python3",
      "display_name": "Python 3"
    },
    "language_info": {
      "name": "python"
    }
  },
  "cells": [
    {
      "cell_type": "code",
      "execution_count": null,
      "metadata": {
        "id": "Z2H5jdu6zFmX",
        "colab": {
          "base_uri": "https://localhost:8080/"
        },
        "outputId": "19df3df1-2872-4095-86e1-ef7ec2a3dcca"
      },
      "outputs": [
        {
          "output_type": "stream",
          "name": "stderr",
          "text": [
            "/usr/local/lib/python3.7/dist-packages/ipykernel_launcher.py:3: FutureWarning: pandas.util.testing is deprecated. Use the functions in the public API at pandas.testing instead.\n",
            "  This is separate from the ipykernel package so we can avoid doing imports until\n"
          ]
        }
      ],
      "source": [
        "#IMPORT PACKAGES\n",
        "import numpy as np\n",
        "import pandas as pd\n",
        "import pandas.util.testing as tm\n",
        "from statsmodels.robust.scale import huber\n",
        "import array as arr\n",
        "from scipy.stats import cauchy\n",
        "import matplotlib.pyplot as plt\n",
        "from sklearn.metrics import roc_curve,auc\n",
        "from scipy.stats import wilcoxon\n",
        "from scipy import stats\n",
        "from scipy.stats.mstats import winsorize"
      ]
    },
    {
      "cell_type": "code",
      "source": [
        "#winsorized Mean computation\n",
        "df0 = pd.read_csv('Book1diseased.csv')\n",
        "df1 = pd.read_csv('Book1notdiseased.csv')\n",
        "\n",
        "winsorizedarray_adep = winsorize(df1['adiposity'], limits=[0.05, 0.05])\n",
        "WinsorizedMean_adep = np.mean(winsorizedarray_adep)\n",
        "winsorizedarray_obes = winsorize(df0['obesity'], limits=[0.05, 0.05])\n",
        "WinsorizedMean_obes = np.mean(winsorizedarray_obes)\n",
        "y1 = arr.array('d', [WinsorizedMean_obes,WinsorizedMean_adep])\n",
        "print(y1)\n",
        "df0\n"
      ],
      "metadata": {
        "id": "dXwX4nAdzSi3"
      },
      "execution_count": null,
      "outputs": []
    },
    {
      "cell_type": "code",
      "source": [
        "rdiseased = cauchy.rvs(loc = 25.7467, scale =1, size=100)\n",
        "rdiseased"
      ],
      "metadata": {
        "id": "rtpVnSfU04I_"
      },
      "execution_count": null,
      "outputs": []
    },
    {
      "cell_type": "code",
      "source": [
        "rnotdiseased = cauchy.rvs(loc = 24.903300000000005, scale =1, size=100)\n",
        "rnotdiseased"
      ],
      "metadata": {
        "id": "ERgLjYEv1WHK"
      },
      "execution_count": null,
      "outputs": []
    },
    {
      "cell_type": "code",
      "source": [
        "def plot_roc(y_test,probs):\n",
        "    fpr,tpr,threshold=roc_curve(y_test,probs)\n",
        "    roc_auc=auc(fpr,tpr)\n",
        "    print('ROC AUC=%0.2f'%roc_auc)\n",
        "    plt.plot(fpr,tpr,label='AUC=%0.2f'%roc_auc,color='darkorange')\n",
        "    plt.legend(loc='lower right')\n",
        "    plt.plot([0,1],[0,1],'b--')\n",
        "    plt.xlim([0,1])\n",
        "    plt.ylim([0,1.05])\n",
        "    plt.xlabel('False Positive Rate')\n",
        "    plt.ylabel('True Positive Rate')\n",
        "    plt.show()\n"
      ],
      "metadata": {
        "id": "apU9PuLj1wU_"
      },
      "execution_count": null,
      "outputs": []
    },
    {
      "cell_type": "code",
      "source": [
        "import pandas as pd\n",
        "import numpy as np\n",
        "from sklearn.model_selection import train_test_split\n",
        "from sklearn.linear_model import LogisticRegression\n",
        "from sklearn import metrics\n",
        "import matplotlib.pyplot as plt"
      ],
      "metadata": {
        "id": "OA4jypKV14bs"
      },
      "execution_count": null,
      "outputs": []
    },
    {
      "cell_type": "code",
      "source": [
        "data = pd.read_csv('Winnsorize_5.csv')\n",
        "data"
      ],
      "metadata": {
        "id": "-Gik4gX316cw"
      },
      "execution_count": null,
      "outputs": []
    },
    {
      "cell_type": "code",
      "source": [
        "X = data[['Winn1', 'Winn2']]\n",
        "y = data['Outcome']\n",
        "\n",
        "#split the dataset into training (70%) and testing (30%) sets\n",
        "X_train,X_test,y_train,y_test = train_test_split(X,y,test_size=0.3,random_state=0) \n",
        "\n",
        "#instantiate the model\n",
        "log_regression = LogisticRegression()\n",
        "\n",
        "#fit the model using the training data\n",
        "log_regression.fit(X_train,y_train)"
      ],
      "metadata": {
        "colab": {
          "base_uri": "https://localhost:8080/"
        },
        "id": "Qfl9ZOld2AmA",
        "outputId": "fe078a96-81d2-4c0c-a579-bab58f975082"
      },
      "execution_count": null,
      "outputs": [
        {
          "output_type": "execute_result",
          "data": {
            "text/plain": [
              "LogisticRegression()"
            ]
          },
          "metadata": {},
          "execution_count": 8
        }
      ]
    },
    {
      "cell_type": "code",
      "source": [
        "#define metrics\n",
        "y_pred_proba = log_regression.predict_proba(X_test)[::,1]\n",
        "fpr, tpr, _ = metrics.roc_curve(y_test,  y_pred_proba)\n",
        "\n",
        "#create ROC curve\n",
        "plt.plot(fpr,tpr)\n",
        "plt.ylabel('True Positive Rate')\n",
        "plt.xlabel('False Positive Rate')\n",
        "plt.grid()\n",
        "plt.show()"
      ],
      "metadata": {
        "colab": {
          "base_uri": "https://localhost:8080/",
          "height": 279
        },
        "id": "Q7RRQnkk2FDF",
        "outputId": "ba2a9949-4c58-4f43-ca64-234c0b250d67"
      },
      "execution_count": null,
      "outputs": [
        {
          "output_type": "display_data",
          "data": {
            "text/plain": [
              "<Figure size 432x288 with 1 Axes>"
            ],
            "image/png": "[encoded data removed]"
          },
          "metadata": {
            "needs_background": "light"
          }
        }
      ]
    },
    {
      "cell_type": "code",
      "source": [
        "#define metrics\n",
        "#lOGISTIC REGRESSION BECAUSE WE ARE CONSIDERING A BINARY CLASSIFICATION PROBLEM\n",
        "import math\n",
        "y_pred_proba = log_regression.predict_proba(X_test)[::,1]\n",
        "fpr, tpr, _ = metrics.roc_curve(y_test,  y_pred_proba)\n",
        "auc = metrics.roc_auc_score(y_test, y_pred_proba)\n",
        "\n",
        "const = 0.8433999999999955;\n",
        "t = np.linspace(0,1,20)\n",
        "x = np.pi*t - np.pi/2\n",
        "y = const + np.tan(x)\n",
        "z = 1/2 + 1/np.pi*np.arctan(y)\n",
        "#auc2 = np.trapz(z,t)\n",
        "auc2 = 1/2 + 1/np.pi*np.arctan(const/math.sqrt(2))\n",
        "\n",
        "\n",
        "#create ROC curve\n",
        "\n",
        "h22, = plt.plot(fpr,tpr,color = 'steelblue', label=\"AUC=\"+str(auc))\n",
        "h2, =  plt.plot(fpr,tpr,color = 'steelblue', label=\"Empircal ROC\")\n",
        "plt.title(\"ROC plots\")\n",
        "plt.ylabel('True Positive Rate')\n",
        "plt.xlabel('False Positive Rate')\n",
        "#plt.plot(tpr, np.tan(tpr))\n",
        "h11, = plt.plot(t,z,color = 'darkorange',label=\"AUC=\"+str(auc2))\n",
        "h1, = plt.plot(t,z,color = 'darkorange', label=\"Bi-Cauchy ROC\")\n",
        "\n",
        "leg = plt.legend(handles=[h11,h22], loc='lower right')\n",
        "ax = plt.gca().add_artist(leg)\n",
        "leg = plt.legend(handles=[h2,h1], loc=3, bbox_to_anchor=(0.7,-0.3))\n",
        "plt.grid()\n",
        "plt.show()"
      ],
      "metadata": {
        "colab": {
          "base_uri": "https://localhost:8080/",
          "height": 325
        },
        "id": "1NhzYJfc2GTj",
        "outputId": "2561627d-ad32-48f7-f09b-88c1cefd2608"
      },
      "execution_count": null,
      "outputs": [
        {
          "output_type": "display_data",
          "data": {
            "text/plain": [
              "<Figure size 432x288 with 1 Axes>"
            ],
            "image/png": "[encoded data removed]"
          },
          "metadata": {
            "needs_background": "light"
          }
        }
      ]
    }
  ]
}